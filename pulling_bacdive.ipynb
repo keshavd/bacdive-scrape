{
 "cells": [
  {
   "cell_type": "markdown",
   "metadata": {},
   "source": [
    "# Bacdive Pull Data\n",
    "\n",
    "Fetch all Relevant IDs dump html"
   ]
  },
  {
   "cell_type": "code",
   "execution_count": 1,
   "metadata": {},
   "outputs": [
    {
     "name": "stderr",
     "output_type": "stream",
     "text": [
      "100%|██████████| 10/10 [00:11<00:00,  1.14s/it]\n"
     ]
    }
   ],
   "source": [
    "import pandas as pd\n",
    "from tqdm import tqdm\n",
    "# Parse the species dump\n",
    "all_bacdive_ids = pd.read_csv(\"export_bacdive_iso_table.csv\")\n",
    "nr_bacdive = all_bacdive_ids[['ID', 'Species']].dropna().set_index('ID')\n",
    "\n",
    "# Loop through each id and parse the metadata into a single data frame and dump\n",
    "\n",
    "for bid in tqdm(nr_bacdive.index[:10]):\n",
    "    out_fh = \"/mnt/storage/grid/home/keshav/projects/bacdive/bacdive_dump/%d.csv\" % bid\n",
    "    all_dfs = pd.read_html(\"https://bacdive.dsmz.de/strain/%d\" % bid)\n",
    "    ls = []\n",
    "    for df in all_dfs:\n",
    "        try:\n",
    "            ls.append(list(zip(df[1].values, df[2].values)))\n",
    "        except:\n",
    "            pass\n",
    "    new_df = pd.DataFrame([x for x in ls for x in x])\n",
    "    new_df.to_csv(out_fh)\n",
    "    "
   ]
  },
  {
   "cell_type": "code",
   "execution_count": 2,
   "metadata": {},
   "outputs": [
    {
     "data": {
      "text/plain": [
       "(45974, 1)"
      ]
     },
     "execution_count": 2,
     "metadata": {},
     "output_type": "execute_result"
    }
   ],
   "source": [
    "nr_bacdive.shape"
   ]
  },
  {
   "cell_type": "code",
   "execution_count": null,
   "metadata": {},
   "outputs": [],
   "source": []
  }
 ],
 "metadata": {
  "kernelspec": {
   "display_name": "pd_url",
   "language": "python",
   "name": "pd_url"
  },
  "language_info": {
   "codemirror_mode": {
    "name": "ipython",
    "version": 3
   },
   "file_extension": ".py",
   "mimetype": "text/x-python",
   "name": "python",
   "nbconvert_exporter": "python",
   "pygments_lexer": "ipython3",
   "version": "3.8.2"
  }
 },
 "nbformat": 4,
 "nbformat_minor": 4
}
