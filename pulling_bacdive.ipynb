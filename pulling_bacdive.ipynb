{
 "cells": [
  {
   "cell_type": "markdown",
   "metadata": {},
   "source": [
    "# Bacdive Pull Data\n",
    "\n",
    "Fetch all Relevant IDs dump html"
   ]
  },
  {
   "cell_type": "code",
   "execution_count": 1,
   "metadata": {},
   "outputs": [
    {
     "name": "stderr",
     "output_type": "stream",
     "text": [
      "100%|██████████| 10/10 [00:11<00:00,  1.14s/it]\n"
     ]
    }
   ],
   "source": [
    "import pandas as pd\n",
    "from tqdm import tqdm\n",
    "# Parse the species dump\n",
    "all_bacdive_ids = pd.read_csv(\"export_bacdive_iso_table.csv\")\n",
    "nr_bacdive = all_bacdive_ids[['ID', 'Species']].dropna().set_index('ID')\n",
    "\n",
    "# Loop through each id and parse the metadata into a single data frame and dump\n",
    "\n",
    "for bid in tqdm(nr_bacdive.index[:10]):\n",
    "    out_fh = \"/mnt/storage/grid/home/keshav/projects/bacdive/bacdive_dump/%d.csv\" % bid\n",
    "    all_dfs = pd.read_html(\"https://bacdive.dsmz.de/strain/%d\" % bid)\n",
    "    ls = []\n",
    "    for df in all_dfs:\n",
    "        try:\n",
    "            ls.append(list(zip(df[1].values, df[2].values)))\n",
    "        except:\n",
    "            pass\n",
    "    new_df = pd.DataFrame([x for x in ls for x in x])\n",
    "    new_df.to_csv(out_fh)\n",
    "    "
   ]
  },
  {
   "cell_type": "code",
   "execution_count": 2,
   "metadata": {},
   "outputs": [
    {
     "data": {
      "text/plain": [
       "(45974, 1)"
      ]
     },
     "execution_count": 2,
     "metadata": {},
     "output_type": "execute_result"
    }
   ],
   "source": [
    "nr_bacdive.shape"
   ]
  },
  {
   "cell_type": "markdown",
   "metadata": {},
   "source": [
    "# Bacdive Parse Data\n",
    "\n",
    "Parse the Dumped HTML looking for strains with confirmed {SPORULATION, NON-SPORULATION}\n",
    "\n",
    "=> Pull the genomic information for these hits"
   ]
  },
  {
   "cell_type": "code",
   "execution_count": null,
   "metadata": {},
   "outputs": [],
   "source": [
    "from glob import glob\n",
    "import pandas as pd\n",
    "import os\n",
    "\n",
    "\n",
    "# Group Dataframes by ID\n",
    "\n",
    "\n",
    "dump = glob(\"/mnt/storage/grid/home/keshav/projects/bacdive/bacdive_dump/*.csv\")\n",
    "bid_to_dfs = {}\n",
    "for f in dump:\n",
    "    try:\n",
    "        bid = int(os.path.basename(f).split('_')[0])\n",
    "        if bid_to_dfs.get(bid) is None:\n",
    "            bid_to_dfs[bid] = []\n",
    "        bid_to_dfs[bid].append(f)\n",
    "    except ValueError:\n",
    "        pass\n",
    "\n",
    "\n",
    "# Prototyping\n",
    "\n",
    "\n",
    "ena_download_url = \"https://www.ebi.ac.uk/ena/browser/api/fasta/%s\" \n",
    "bid_to_download  = {}\n",
    "bid_to_ability = {}\n",
    "\n",
    "\n",
    "# Parsing Dump\n",
    "\n",
    "for bid_id, all_dfs in tqdm(bid_to_dfs.items()):\n",
    "    dfs = [pd.read_csv(x) for x in all_dfs]\n",
    "    morphology_to_download = []\n",
    "    for df in dfs:\n",
    "        if 'Sequence accession number' in df.columns:\n",
    "            all_seqs = df['Sequence accession number']\n",
    "            for seq in all_seqs:\n",
    "                try:\n",
    "                    if 'ENA' in seq:\n",
    "                        accession_id = seq.split()[0]\n",
    "                        morphology_to_download.append(ena_download_url % accession_id)\n",
    "                except TypeError:\n",
    "                    pass\n",
    "        if 'Ability of spore formation' in df.values:\n",
    "            bid_to_ability[bid_id] = df\n",
    "    bid_to_download[bid_id] = morphology_to_download\n",
    "\n",
    "\n",
    "# Download all non-spore-forming/spore_forming\n",
    "\n",
    "all_abilities = pd.concat(bid_to_ability)\n",
    "\n",
    "non_spore=[x[0] for x in all_abilities[all_abilities['2'] == 'no'].index]\n",
    "spore=[x[0] for x in all_abilities[all_abilities['2'] == 'yes'].index]\n",
    "\n",
    "import os\n",
    "for bid in tqdm(spore):\n",
    "    all_downloads = bid_to_download[bid]\n",
    "    for d in all_downloads:\n",
    "        os.system('wget %s --directory-prefix=/mnt/storage/grid/home/keshav/projects/bacdive/genomes/spore/%d' % (d, bid))\n",
    "\n",
    "\n",
    "for bid in tqdm(non_spore):\n",
    "    all_downloads = bid_to_download[bid]\n",
    "    for d in all_downloads:\n",
    "        os.system('wget %s --directory-prefix=/mnt/storage/grid/home/keshav/projects/bacdive/genomes/non_spore/%d' % (d, bid))"
   ]
  }
 ],
 "metadata": {
  "kernelspec": {
   "display_name": "pd_url",
   "language": "python",
   "name": "pd_url"
  },
  "language_info": {
   "codemirror_mode": {
    "name": "ipython",
    "version": 3
   },
   "file_extension": ".py",
   "mimetype": "text/x-python",
   "name": "python",
   "nbconvert_exporter": "python",
   "pygments_lexer": "ipython3",
   "version": "3.8.2"
  }
 },
 "nbformat": 4,
 "nbformat_minor": 4
}
